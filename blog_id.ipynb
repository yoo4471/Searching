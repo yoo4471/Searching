{
 "cells": [
  {
   "cell_type": "code",
   "execution_count": null,
   "metadata": {
    "collapsed": true
   },
   "outputs": [],
   "source": [
    "import sys, os, time, signal\n",
    "from selenium import webdriver\n",
    "from selenium.webdriver.common.alert import Alert\n",
    "from bs4 import BeautifulSoup as bs\n",
    "\n",
    "\n",
    "def signal_handler(signal, frame):\n",
    "        print('You pressed Ctrl+C!')\n",
    "        sys.exit(0)\n",
    "signal.signal(signal.SIGINT, signal_handler)\n",
    "\n",
    "class NaverBlog():\n",
    "    def __init__(self):\n",
    "        self.blog_ids = []\n",
    "        self.id = ''\n",
    "        self.password = ''\n",
    "        self.chromedriver_path = ''\n",
    "        self.keyword = ''\n",
    "        self.max_page = 0\n",
    "        self.contents= ''\n",
    "        self.driver = None\n",
    "        self.send_interval = 0\n",
    "        self.file_path = ''\n",
    "        self.init_initialized = False\n",
    "        \n",
    "    def start(self):\n",
    "        self.print_command()\n",
    "        while True:\n",
    "            command = input('Select Command :')\n",
    "            if command == '':\n",
    "                command = 99\n",
    "            else:\n",
    "                command = int(command)\n",
    "                \n",
    "            if command == 0:\n",
    "                print('================ Do Quit ================')\n",
    "                return                \n",
    "            elif command == 1:\n",
    "                print('================ Do Set configuration ================')\n",
    "                self.init()\n",
    "                self.print_init()\n",
    "                self.init_initialized = True\n",
    "            elif command == 2:\n",
    "                print('================ Do Collect naver ID ================')\n",
    "                if self.check_init() == False:\n",
    "                    continue\n",
    "                self.parsing()\n",
    "                print('Number of collected IDs : ' + str(len(self.blog_ids)))\n",
    "                print('')\n",
    "                print('')\n",
    "            elif command == 3:\n",
    "                print('*================ Do Send gift up to 50 ID ================')\n",
    "                if self.check_init() == False:\n",
    "                    continue\n",
    "                self.send_gift()\n",
    "            elif command == 4:\n",
    "                print('================ Do Send note up to 500 ID ================')\n",
    "                if self.check_init() == False:\n",
    "                    continue                \n",
    "                self.send_note()\n",
    "            elif command == 5:\n",
    "                print('================ Show collected IDs ================')\n",
    "                self.print_collected_ids()\n",
    "            else:\n",
    "                self.print_command()\n",
    "                \n",
    "    def print_command(self):\n",
    "        print('================ MENU ================')\n",
    "        print('1 : Set configuration')\n",
    "        print('2 : Collect naver ID')\n",
    "        print('3 : Send gift up to 50 ID')\n",
    "        print('4 : Send note up to 500 ID')\n",
    "        print('5 : Show collected IDs')\n",
    "        print('0 : Quit')\n",
    "        print('======================================')\n",
    "        print('')\n",
    "    \n",
    "    def print_collected_ids(self):\n",
    "        for blog_id in self.blog_ids:\n",
    "            print(blog_id)\n",
    "        print('total Ids : ' + str(len(self.blog_ids)))\n",
    "    def check_init(self):\n",
    "        if self.init_initialized == False:\n",
    "            print('Please select command 1 first.')\n",
    "        return self.init_initialized\n",
    "    \n",
    "    def init(self):\n",
    "        with open(\"./config.txt\", \"r\") as f:\n",
    "            lines = f.readlines()\n",
    "        for line in lines:\n",
    "            line_split = line.splitlines()[0].split('=')\n",
    "            if line_split[0] == 'id':\n",
    "                self.id = line_split[1]\n",
    "            elif line_split[0] == 'password':\n",
    "                self.password = line_split[1]\n",
    "            elif line_split[0] == 'chromedriver_path':\n",
    "                self.chromedriver_path = line_split[1]\n",
    "            elif line_split[0] == 'keyword':\n",
    "                self.keyword = line_split[1]\n",
    "            elif line_split[0] == 'max_page':\n",
    "                self.max_page = line_split[1]\n",
    "            elif line_split[0] == 'contents':\n",
    "                self.contents = line_split[1]\n",
    "            elif line_split[0] == 'send_interval':\n",
    "                self.send_interval = int(line_split[1])\n",
    "            elif line_split[0] == 'file_path':\n",
    "                self.file_path = line_split[1]\n",
    "        \n",
    "        \n",
    "    def print_init(self):\n",
    "        print('keyword = ' + self.keyword)\n",
    "        print('')\n",
    "        print('id = ' + self.id)\n",
    "        print('password = ' + self.password)\n",
    "        print('chromedriver_path = ' + self.chromedriver_path)\n",
    "        print('file_path = ' + self.file_path)\n",
    "        print('max_page = ' + self.max_page)\n",
    "        print('send_interval = ' + str(self.send_interval))\n",
    "        print('contents = ' + self.contents)\n",
    "        print('')\n",
    "        \n",
    "    def parsing(self):\n",
    "        self.driver = webdriver.Chrome(self.chromedriver_path)\n",
    "        self.driver.implicitly_wait(3)\n",
    "        self.blog_ids = []\n",
    "        num = 1\n",
    "        for i in range(0, int(self.max_page)):\n",
    "            url = 'https://m.search.naver.com/search.naver?where=m_blog&sm=mtb_pge&query=' + self.keyword +'&display=15&st=sim&nso=&start=' + str(num)\n",
    "            try:\n",
    "                self.blog_ids = self.blog_ids + self.do_parsing(url)\n",
    "            except:\n",
    "                print('Error - It is likely that there are no more pages to scan')\n",
    "                print('')\n",
    "                break\n",
    "            num = num + 15\n",
    "        self.save_file(self.keyword, len(self.blog_ids))\n",
    "        self.driver.quit()\n",
    "        \n",
    "    def do_parsing(self, url):\n",
    "        blog_ids = []\n",
    "        self.driver.get(url)\n",
    "        self.driver.set_window_size(0, 0)\n",
    "        self.driver.set_window_position(0, 0)\n",
    "        elem = self.driver.find_elements_by_class_name('lst_total')\n",
    "        source_code = self.driver.page_source\n",
    "        plain_text = source_code\n",
    "        soup = bs(plain_text, \"html5lib\")\n",
    "        lst_total = soup.find(\"ul\", { \"class\" : \"lst_total\" })\n",
    "\n",
    "        for a in lst_total.find_all('a', href=True):\n",
    "            blog_url = a['href']\n",
    "            if blog_url.find('naver') > 0:\n",
    "                blog_id = blog_url.split('/')[-2]\n",
    "                blog_ids.append(blog_id)\n",
    "\n",
    "        return blog_ids\n",
    "    \n",
    "    def save_file(self, keyword, nkeyword):\n",
    "        path = self.file_path + '\\' + keyword + '_' + str(nkeyword)\n",
    "        f = open(path, 'w')\n",
    "        for blog_id in self.blog_ids:\n",
    "            f.write(blog_id+'\\n')\n",
    "        f.close()\n",
    "        print('blog_ids saved to ' + path)\n",
    "    \n",
    "    def send_gift(self):\n",
    "        self.driver = webdriver.Chrome(self.chromedriver_path)\n",
    "        self.driver.implicitly_wait(3)\n",
    "        self.do_naver_login()\n",
    "        send_num = self.do_send_gift()\n",
    "        print(str(send_num) + ' IDs completed')\n",
    "        print('')\n",
    "        self.driver.quit()\n",
    "    \n",
    "    def send_note(self):\n",
    "        self.driver = webdriver.Chrome(self.chromedriver_path)\n",
    "        self.driver.implicitly_wait(3)\n",
    "        self.do_naver_login()\n",
    "        self.do_send_note()\n",
    "        print('Send note completed')\n",
    "        print('')\n",
    "        self.driver.quit()\n",
    "        \n",
    "    def do_naver_login(self):\n",
    "        self.driver.get('https://nid.naver.com/nidlogin.login')\n",
    "        self.driver.find_element_by_name('id').send_keys(self.id)\n",
    "        self.driver.find_element_by_name('pw').send_keys(self.password)\n",
    "        self.driver.find_element_by_xpath('//*[@id=\"frmNIDLogin\"]/fieldset/input').click()\n",
    "        try:\n",
    "            driver.find_element_by_xpath('//*[@id=\"frmNIDLogin\"]/fieldset/span[2]/a').click()\n",
    "        except:\n",
    "            pass\n",
    "        self.driver.implicitly_wait(2)\n",
    "        \n",
    "    def do_send_gift(self):\n",
    "        send_num = 0\n",
    "        for blog_id in self.blog_ids:\n",
    "            if send_num == 50:\n",
    "                break\n",
    "            self.driver.get('http://item2.naver.com/FontDetail.nhn?itemSeq=994265')\n",
    "            self.driver.execute_script('javascript:clickOnGift()')\n",
    "            driver_new = self.driver.window_handles[1]\n",
    "            driver_origin = self.driver.window_handles[0]\n",
    "            self.driver.switch_to_window(driver_new)\n",
    "            self.driver.find_element_by_name('receiveuserid').send_keys(blog_id)\n",
    "            self.driver.find_element_by_name('sendmessage').send_keys(self.contents)\n",
    "            self.driver.find_element_by_xpath('//*[@id=\"footer\"]/input').click()\n",
    "            self.driver.close()\n",
    "            self.driver.switch_to_window(driver_origin)\n",
    "            self.driver.implicitly_wait(2)\n",
    "            send_num = send_num + 1\n",
    "        return send_num\n",
    "    \n",
    "    def do_send_note(self):\n",
    "        send_ids = self.blog_ids\n",
    "        self.driver.get('http://note.naver.com/#{\"sHistoryFunction\":\"write\",\"sWriteType\":\"new\",\"oParameter\":{\"targetUserId\":\"\",\"toMe\":\"0\"},\"sUrl\":\"/json/write/\"}')\n",
    "        while len(send_ids) != 0:\n",
    "            num_id = 0\n",
    "            send_id = ''\n",
    "            while len(send_ids) != 0:\n",
    "                if num_id == 10:\n",
    "                    break\n",
    "                send_id = send_id + send_ids.pop() + ','\n",
    "                num_id = num_id + 1\n",
    "            self.driver.find_element_by_xpath('//*[@id=\"who\"]').clear()\n",
    "            self.driver.find_element_by_xpath('//*[@id=\"writeNote\"]').clear()\n",
    "            self.driver.find_element_by_xpath('//*[@id=\"who\"]').send_keys(send_id)\n",
    "            self.driver.find_element_by_xpath('//*[@id=\"writeNote\"]').send_keys(self.contents)\n",
    "            self.driver.find_element_by_xpath('//*[@id=\"cont_fix_area\"]/div[6]/div[1]/a[1]').click()\n",
    "            while True:\n",
    "                try:\n",
    "                    alert = Alert(self.driver).text\n",
    "                    time.sleep(1)\n",
    "                    break\n",
    "                except:\n",
    "                    pass\n",
    "            while True:\n",
    "                try:\n",
    "                    Alert(self.driver).accept()\n",
    "                    break\n",
    "                except:\n",
    "                    pass\n",
    "            time.sleep(self.send_interval)"
   ]
  },
  {
   "cell_type": "code",
   "execution_count": 13,
   "metadata": {
    "collapsed": true
   },
   "outputs": [],
   "source": [
    "a = NaverBlog()"
   ]
  },
  {
   "cell_type": "code",
   "execution_count": null,
   "metadata": {},
   "outputs": [
    {
     "name": "stdout",
     "output_type": "stream",
     "text": [
      "================ MENU ================\n",
      "1 : Set configuration\n",
      "2 : Collect naver ID\n",
      "3 : Send gift up to 50 ID\n",
      "4 : Send note up to 500 ID\n",
      "5 : Show collected IDs\n",
      "0 : Quit\n",
      "======================================\n",
      "\n",
      "Select Command :1\n",
      "================ Do Set configuration ================\n",
      "id = yooria0615 \n",
      "password = dofldofl123\n",
      "chromedriver_path = /Users/yoo/python/Searching/chromedriver_mac\n",
      "keyword = 사랑해\n",
      "max_page = 10\n",
      "send_interval = 10\n",
      "contents = 반갑습니다. 좋은 하루 보내세요.\n",
      "file_path = /Users/yoo/python/Searching\n",
      "\n",
      "Select Command :2\n",
      "================ Do Collect naver ID ================\n",
      "Number of collected IDs : 145\n",
      "\n",
      "\n"
     ]
    }
   ],
   "source": [
    "a.start()"
   ]
  },
  {
   "cell_type": "code",
   "execution_count": 13,
   "metadata": {},
   "outputs": [
    {
     "data": {
      "text/plain": [
       "(4, 40)"
      ]
     },
     "execution_count": 13,
     "metadata": {},
     "output_type": "execute_result"
    }
   ],
   "source": [
    "int(len(a) / 10), len(a)"
   ]
  },
  {
   "cell_type": "code",
   "execution_count": 10,
   "metadata": {},
   "outputs": [
    {
     "name": "stdout",
     "output_type": "stream",
     "text": [
      "0\n",
      "1\n",
      "2\n",
      "3\n"
     ]
    }
   ],
   "source": [
    "for i in range(0, 4):\n",
    "    print(i)"
   ]
  },
  {
   "cell_type": "code",
   "execution_count": 2,
   "metadata": {
    "collapsed": true
   },
   "outputs": [],
   "source": [
    "a = ['a', 'b','c','d','e','f','g','h','i','j']"
   ]
  },
  {
   "cell_type": "code",
   "execution_count": null,
   "metadata": {
    "collapsed": true
   },
   "outputs": [],
   "source": []
  },
  {
   "cell_type": "code",
   "execution_count": 29,
   "metadata": {
    "collapsed": true
   },
   "outputs": [],
   "source": [
    "b =''\n",
    "for i in range(0, 10):\n",
    "    b = b + a.pop() + ','"
   ]
  },
  {
   "cell_type": "code",
   "execution_count": 30,
   "metadata": {},
   "outputs": [
    {
     "data": {
      "text/plain": [
       "'a,a,a,a,a,a,a,a,a,a,'"
      ]
     },
     "execution_count": 30,
     "metadata": {},
     "output_type": "execute_result"
    }
   ],
   "source": [
    "b"
   ]
  },
  {
   "cell_type": "code",
   "execution_count": 22,
   "metadata": {
    "scrolled": true
   },
   "outputs": [
    {
     "name": "stdout",
     "output_type": "stream",
     "text": [
      "0\n",
      "1\n",
      "2\n",
      "3\n",
      "4\n",
      "5\n",
      "6\n",
      "7\n",
      "8\n",
      "9\n"
     ]
    }
   ],
   "source": [
    "for i in range(0, 10):\n",
    "    print(i)"
   ]
  },
  {
   "cell_type": "code",
   "execution_count": 6,
   "metadata": {
    "collapsed": true
   },
   "outputs": [],
   "source": [
    "f = open(\"./test.txt\", 'w')\n"
   ]
  },
  {
   "cell_type": "code",
   "execution_count": 7,
   "metadata": {},
   "outputs": [],
   "source": [
    "for i in a:\n",
    "    f.write(i)"
   ]
  },
  {
   "cell_type": "code",
   "execution_count": 8,
   "metadata": {
    "collapsed": true
   },
   "outputs": [],
   "source": [
    "f.close()"
   ]
  },
  {
   "cell_type": "code",
   "execution_count": null,
   "metadata": {
    "collapsed": true
   },
   "outputs": [],
   "source": [
    "f = open(\"C:/Python/새파일.txt\", 'w')\n",
    "for i in range(1, 11):\n",
    "    data = \"%d번째 줄입니다.\\n\" % i\n",
    "    f.write(data)\n",
    "f.close()"
   ]
  }
 ],
 "metadata": {
  "kernelspec": {
   "display_name": "Python 3",
   "language": "python",
   "name": "python3"
  },
  "language_info": {
   "codemirror_mode": {
    "name": "ipython",
    "version": 3
   },
   "file_extension": ".py",
   "mimetype": "text/x-python",
   "name": "python",
   "nbconvert_exporter": "python",
   "pygments_lexer": "ipython3",
   "version": "3.5.1"
  }
 },
 "nbformat": 4,
 "nbformat_minor": 2
}
