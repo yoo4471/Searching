{
 "cells": [
  {
   "cell_type": "code",
   "execution_count": 163,
   "metadata": {
    "collapsed": true
   },
   "outputs": [],
   "source": [
    "import sys\n",
    "from selenium import webdriver\n",
    "from bs4 import BeautifulSoup as bs\n",
    "\n",
    "driver = webdriver.Chrome('/Users/yoo/python/chromedriver')"
   ]
  },
  {
   "cell_type": "code",
   "execution_count": 164,
   "metadata": {
    "collapsed": true
   },
   "outputs": [],
   "source": [
    "def do_parsing(url):\n",
    "    blogs = []\n",
    "    driver.get(url)\n",
    "    elem = driver.find_elements_by_class_name('lst_total')\n",
    "    source_code = driver.page_source\n",
    "    plain_text = source_code\n",
    "    soup = bs(plain_text, \"html5lib\")\n",
    "    lst_total = soup.find(\"ul\", { \"class\" : \"lst_total\" })\n",
    "    try:\n",
    "        for a in lst_total.find_all('a', href=True):\n",
    "            blog = a['href']\n",
    "            blog_id = blog.split('/')[-2]\n",
    "            blogs.append(blog_id)\n",
    "    except:\n",
    "        pass\n",
    "    return blogs\n",
    "\n",
    "def parsing(word, max_page):\n",
    "    blog_ids = []\n",
    "    num = 1\n",
    "    for i in range(0, max_page):\n",
    "        url = 'https://m.search.naver.com/search.naver?where=m_blog&sm=mtb_pge&query=' + word +'&display=15&st=sim&nso=&start=' + str(num)\n",
    "        try:\n",
    "            print(url)\n",
    "            blog_ids = blog_ids + do_parsing(url)\n",
    "            num = num + 15\n",
    "        except:\n",
    "            print('..')\n",
    "            return blog_ids\n",
    "    \n",
    "    return list(set(blog_ids))\n",
    "        "
   ]
  },
  {
   "cell_type": "code",
   "execution_count": 165,
   "metadata": {
    "scrolled": true
   },
   "outputs": [
    {
     "name": "stdout",
     "output_type": "stream",
     "text": [
      "https://m.search.naver.com/search.naver?where=m_blog&sm=mtb_pge&query=어&display=15&st=sim&nso=&start=1\n",
      "https://m.search.naver.com/search.naver?where=m_blog&sm=mtb_pge&query=어&display=15&st=sim&nso=&start=16\n",
      "https://m.search.naver.com/search.naver?where=m_blog&sm=mtb_pge&query=어&display=15&st=sim&nso=&start=31\n",
      "https://m.search.naver.com/search.naver?where=m_blog&sm=mtb_pge&query=어&display=15&st=sim&nso=&start=46\n"
     ]
    },
    {
     "data": {
      "text/plain": [
       "['otl0116',\n",
       " 'hoha6663',\n",
       " 'dksehffkd323',\n",
       " 'clee88',\n",
       " 'shinjy201',\n",
       " 'love0327y',\n",
       " 'sooyong8721',\n",
       " 'elyann',\n",
       " 'ftts40',\n",
       " 'gag5177',\n",
       " 'pjmysm',\n",
       " 'sseryuni',\n",
       " 'tndktndk29',\n",
       " 'sweetstuff33',\n",
       " 'joy282sy',\n",
       " 'jwpark79',\n",
       " 'imchocolate',\n",
       " 'a878062',\n",
       " 'chocobinu215',\n",
       " 'yhe1471',\n",
       " 'missjang90',\n",
       " 'lovlyu0922',\n",
       " 'fkz02',\n",
       " 'nasillstar',\n",
       " 'sirin1004',\n",
       " 'hsmmim',\n",
       " '99heran',\n",
       " 'hoonie2009',\n",
       " 'qoflaughter',\n",
       " 'polo1510',\n",
       " 'katrinadiary',\n",
       " 'yoonakim1202',\n",
       " 'kunby',\n",
       " 'usgreen99',\n",
       " '4fkdgoyou',\n",
       " 'seongji131',\n",
       " 'wkddnsdud00',\n",
       " 'jinmichu',\n",
       " 'daebakyo',\n",
       " 'junyoupcha',\n",
       " 'bk_dunkey',\n",
       " 'seoung7777',\n",
       " 'happycloud24',\n",
       " 'mozzi_su',\n",
       " 'rafiuta',\n",
       " 'ines011',\n",
       " 'qq4444pp',\n",
       " 'cs_queen',\n",
       " 'cgs2020',\n",
       " 'mycloud666',\n",
       " 'haidycoffee',\n",
       " 'chloepark472',\n",
       " 'aaaa10432',\n",
       " 'mrsflower128',\n",
       " 'mistake110',\n",
       " 'fisc36',\n",
       " 'molli1108']"
      ]
     },
     "execution_count": 165,
     "metadata": {},
     "output_type": "execute_result"
    }
   ],
   "source": [
    "parsing('어', 4)"
   ]
  },
  {
   "cell_type": "code",
   "execution_count": null,
   "metadata": {
    "collapsed": true
   },
   "outputs": [],
   "source": [
    "import sys\n",
    "from selenium import webdriver\n",
    "from bs4 import BeautifulSoup as bs\n",
    "\n",
    "driver = webdriver.Chrome('/Users/yoo/python/chromedriver')"
   ]
  },
  {
   "cell_type": "code",
   "execution_count": 171,
   "metadata": {},
   "outputs": [],
   "source": [
    "\n",
    "\n",
    "class NaverBlog():\n",
    "    def __init__(self):\n",
    "        self.blog_ids = []\n",
    "        self.word = ''\n",
    "        self.max_page = 0\n",
    "        self.url = ''\n",
    "        self.id = ''\n",
    "        self.passwd = ''\n",
    "    def set_word(self):\n",
    "        self.word = input('search word : ')\n",
    "    def set_login(self):\n",
    "        self.id = input('naver id')\n",
    "        self.passwd = \n",
    "    def set_url(self, word):\n",
    "        self.url = 'https://m.search.naver.com/search.naver?where=m_blog&sm=mtb_pge&query=' + word +'&display=15&st=sim&nso=&start='\n",
    "    def get(self):\n",
    "        print(self.word)"
   ]
  },
  {
   "cell_type": "code",
   "execution_count": 172,
   "metadata": {},
   "outputs": [],
   "source": [
    "a = NaverBlog()"
   ]
  },
  {
   "cell_type": "code",
   "execution_count": 175,
   "metadata": {},
   "outputs": [
    {
     "name": "stdout",
     "output_type": "stream",
     "text": [
      "search word : sdf\n"
     ]
    }
   ],
   "source": [
    "a.set_word()"
   ]
  },
  {
   "cell_type": "code",
   "execution_count": 176,
   "metadata": {},
   "outputs": [
    {
     "name": "stdout",
     "output_type": "stream",
     "text": [
      "sdf\n"
     ]
    }
   ],
   "source": [
    "a.get()"
   ]
  },
  {
   "cell_type": "code",
   "execution_count": null,
   "metadata": {
    "collapsed": true
   },
   "outputs": [],
   "source": []
  }
 ],
 "metadata": {
  "kernelspec": {
   "display_name": "Python 3",
   "language": "python",
   "name": "python3"
  },
  "language_info": {
   "codemirror_mode": {
    "name": "ipython",
    "version": 3
   },
   "file_extension": ".py",
   "mimetype": "text/x-python",
   "name": "python",
   "nbconvert_exporter": "python",
   "pygments_lexer": "ipython3",
   "version": "3.5.1"
  }
 },
 "nbformat": 4,
 "nbformat_minor": 2
}
