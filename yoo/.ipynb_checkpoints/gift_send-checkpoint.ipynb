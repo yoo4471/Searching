{
 "cells": [
  {
   "cell_type": "code",
   "execution_count": 61,
   "metadata": {
    "collapsed": true
   },
   "outputs": [],
   "source": [
    "import sys\n",
    "from selenium import webdriver\n",
    "from bs4 import BeautifulSoup as bs\n",
    "driver = webdriver.Chrome('/Users/yoo/python/chromedriver')\n",
    "driver.implicitly_wait(3)\n",
    "driver.get('https://nid.naver.com/nidlogin.login')\n",
    "driver.find_element_by_name('id').send_keys('sol2590')\n",
    "driver.find_element_by_name('pw').send_keys('dofldofl12')\n",
    "# 로그인 버튼을 눌러주자.\n",
    "driver.find_element_by_xpath('//*[@id=\"frmNIDLogin\"]/fieldset/input').click()"
   ]
  },
  {
   "cell_type": "code",
   "execution_count": 62,
   "metadata": {
    "collapsed": true
   },
   "outputs": [],
   "source": [
    "blog_ids = ['otl0116',\n",
    " 'hoha6663',\n",
    " 'dksehffkd323',\n",
    " 'clee88',\n",
    " 'shinjy201',\n",
    " 'love0327y',\n",
    " 'sooyong8721',\n",
    " 'elyann',\n",
    " 'ftts40',\n",
    " 'gag5177',\n",
    " 'pjmysm',\n",
    " 'sseryuni',\n",
    " 'tndktndk29',\n",
    " 'sweetstuff33',\n",
    " 'joy282sy',\n",
    " 'jwpark79',\n",
    " 'imchocolate',\n",
    " 'a878062',\n",
    " 'chocobinu215',\n",
    " 'yhe1471',\n",
    " 'missjang90',\n",
    " 'lovlyu0922',\n",
    " 'fkz02',\n",
    " 'nasillstar',\n",
    " 'sirin1004',\n",
    " 'hsmmim',\n",
    " '99heran',\n",
    " 'hoonie2009',\n",
    " 'qoflaughter',\n",
    " 'polo1510',\n",
    " 'katrinadiary',\n",
    " 'yoonakim1202',\n",
    " 'kunby',\n",
    " 'usgreen99',\n",
    " '4fkdgoyou',\n",
    " 'seongji131',\n",
    " 'wkddnsdud00',\n",
    " 'jinmichu',\n",
    " 'daebakyo',\n",
    " 'junyoupcha',\n",
    " 'bk_dunkey',\n",
    " 'seoung7777',\n",
    " 'happycloud24',\n",
    " 'mozzi_su',\n",
    " 'rafiuta',\n",
    " 'ines011',\n",
    " 'qq4444pp',\n",
    " 'cs_queen',\n",
    " 'cgs2020',\n",
    " 'mycloud666',\n",
    " 'haidycoffee',\n",
    " 'chloepark472',\n",
    " 'aaaa10432',\n",
    " 'mrsflower128',\n",
    " 'mistake110',\n",
    " 'fisc36',\n",
    " 'molli1108']"
   ]
  },
  {
   "cell_type": "code",
   "execution_count": 63,
   "metadata": {},
   "outputs": [],
   "source": [
    "for blog_id in blog_ids:\n",
    "    driver.get('http://item2.naver.com/FontDetail.nhn?itemSeq=994265')\n",
    "    driver.execute_script('javascript:clickOnGift()')\n",
    "    driver_new = driver.window_handles[1]\n",
    "    driver_origin = driver.window_handles[0]\n",
    "    driver.switch_to_window(driver_new)\n",
    "    driver.find_element_by_name('receiveuserid').send_keys(blog_id)\n",
    "    driver.find_element_by_name('sendmessage').send_keys('안녕하세요. 반갑습니다.')\n",
    "    driver.find_element_by_xpath('//*[@id=\"footer\"]/input').click()\n",
    "    driver.close()\n",
    "    driver.switch_to_window(driver_origin)\n",
    "    driver.implicitly_wait(2)"
   ]
  },
  {
   "cell_type": "code",
   "execution_count": null,
   "metadata": {
    "collapsed": true
   },
   "outputs": [],
   "source": []
  }
 ],
 "metadata": {
  "kernelspec": {
   "display_name": "Python 3",
   "language": "python",
   "name": "python3"
  },
  "language_info": {
   "codemirror_mode": {
    "name": "ipython",
    "version": 3
   },
   "file_extension": ".py",
   "mimetype": "text/x-python",
   "name": "python",
   "nbconvert_exporter": "python",
   "pygments_lexer": "ipython3",
   "version": "3.5.1"
  }
 },
 "nbformat": 4,
 "nbformat_minor": 2
}
