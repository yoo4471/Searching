{
 "cells": [
  {
   "cell_type": "code",
   "execution_count": 16,
   "metadata": {
    "collapsed": true
   },
   "outputs": [],
   "source": [
    "import sys\n",
    "from selenium import webdriver\n",
    "from selenium.webdriver.common.alert import Alert\n",
    "from bs4 import BeautifulSoup as bs\n",
    "driver = webdriver.Chrome('/Users/yoo/python/chromedriver')\n",
    "driver.implicitly_wait(3)\n",
    "driver.get('https://nid.naver.com/nidlogin.login')\n",
    "driver.find_element_by_name('id').send_keys('bell1346')\n",
    "driver.find_element_by_name('pw').send_keys('Jesus@@25')\n",
    "# 로그인 버튼을 눌러주자.\n",
    "driver.find_element_by_xpath('//*[@id=\"frmNIDLogin\"]/fieldset/input').click()\n",
    "try:\n",
    "    driver.find_element_by_xpath('//*[@id=\"frmNIDLogin\"]/fieldset/span[2]/a').click()\n",
    "except:\n",
    "    pass"
   ]
  },
  {
   "cell_type": "code",
   "execution_count": 17,
   "metadata": {
    "collapsed": true
   },
   "outputs": [],
   "source": [
    "import sys\n",
    "from selenium import webdriver\n",
    "from selenium.webdriver.common.alert import Alert\n",
    "from bs4 import BeautifulSoup as bs"
   ]
  },
  {
   "cell_type": "code",
   "execution_count": 21,
   "metadata": {
    "collapsed": true
   },
   "outputs": [],
   "source": [
    "driver = webdriver.Chrome('/Users/yoo/python/chromedriver')\n"
   ]
  },
  {
   "cell_type": "code",
   "execution_count": 26,
   "metadata": {
    "collapsed": true
   },
   "outputs": [],
   "source": []
  },
  {
   "cell_type": "code",
   "execution_count": 2,
   "metadata": {
    "collapsed": true
   },
   "outputs": [],
   "source": [
    "driver.get('http://note.naver.com/#%7B%22sHistoryFunction%22%3A%22write%22%2C%22sWriteType%22%3A%22new%22%2C%22oParameter%22%3A%7B%22targetUserId%22%3A%22%22%2C%22toMe%22%3A%220%22%7D%2C%22sUrl%22%3A%22%2Fjson%2Fwrite%2F%22%7D')"
   ]
  },
  {
   "cell_type": "code",
   "execution_count": null,
   "metadata": {
    "collapsed": true
   },
   "outputs": [],
   "source": []
  },
  {
   "cell_type": "code",
   "execution_count": 3,
   "metadata": {},
   "outputs": [],
   "source": [
    "driver.find_element_by_xpath('//*[@id=\"who\"]').clear()\n",
    "driver.find_element_by_xpath('//*[@id=\"writeNote\"]').clear()\n",
    "driver.find_element_by_xpath('//*[@id=\"who\"]').send_keys('aa')\n",
    "driver.find_element_by_xpath('//*[@id=\"writeNote\"]').send_keys('bb')\n",
    "driver.find_element_by_xpath('//*[@id=\"cont_fix_area\"]/div[6]/div[1]/a[1]').click()\n"
   ]
  },
  {
   "cell_type": "code",
   "execution_count": 15,
   "metadata": {
    "scrolled": true
   },
   "outputs": [
    {
     "ename": "NoAlertPresentException",
     "evalue": "Message: no alert open\n  (Session info: chrome=60.0.3112.90)\n  (Driver info: chromedriver=2.31.488774 (7e15618d1bf16df8bf0ecf2914ed1964a387ba0b),platform=Mac OS X 10.12.5 x86_64)\n",
     "output_type": "error",
     "traceback": [
      "\u001b[0;31m---------------------------------------------------------------------------\u001b[0m",
      "\u001b[0;31mNoAlertPresentException\u001b[0m                   Traceback (most recent call last)",
      "\u001b[0;32m<ipython-input-15-308483595770>\u001b[0m in \u001b[0;36m<module>\u001b[0;34m()\u001b[0m\n\u001b[0;32m----> 1\u001b[0;31m \u001b[0mAlert\u001b[0m\u001b[0;34m(\u001b[0m\u001b[0mdriver\u001b[0m\u001b[0;34m)\u001b[0m\u001b[0;34m.\u001b[0m\u001b[0mtext\u001b[0m\u001b[0;34m\u001b[0m\u001b[0m\n\u001b[0m",
      "\u001b[0;32m/Library/Frameworks/Python.framework/Versions/3.5/lib/python3.5/site-packages/selenium/webdriver/common/alert.py\u001b[0m in \u001b[0;36mtext\u001b[0;34m(self)\u001b[0m\n\u001b[1;32m     67\u001b[0m             \u001b[0;32mreturn\u001b[0m \u001b[0mself\u001b[0m\u001b[0;34m.\u001b[0m\u001b[0mdriver\u001b[0m\u001b[0;34m.\u001b[0m\u001b[0mexecute\u001b[0m\u001b[0;34m(\u001b[0m\u001b[0mCommand\u001b[0m\u001b[0;34m.\u001b[0m\u001b[0mW3C_GET_ALERT_TEXT\u001b[0m\u001b[0;34m)\u001b[0m\u001b[0;34m[\u001b[0m\u001b[0;34m\"value\"\u001b[0m\u001b[0;34m]\u001b[0m\u001b[0;34m\u001b[0m\u001b[0m\n\u001b[1;32m     68\u001b[0m         \u001b[0;32melse\u001b[0m\u001b[0;34m:\u001b[0m\u001b[0;34m\u001b[0m\u001b[0m\n\u001b[0;32m---> 69\u001b[0;31m             \u001b[0;32mreturn\u001b[0m \u001b[0mself\u001b[0m\u001b[0;34m.\u001b[0m\u001b[0mdriver\u001b[0m\u001b[0;34m.\u001b[0m\u001b[0mexecute\u001b[0m\u001b[0;34m(\u001b[0m\u001b[0mCommand\u001b[0m\u001b[0;34m.\u001b[0m\u001b[0mGET_ALERT_TEXT\u001b[0m\u001b[0;34m)\u001b[0m\u001b[0;34m[\u001b[0m\u001b[0;34m\"value\"\u001b[0m\u001b[0;34m]\u001b[0m\u001b[0;34m\u001b[0m\u001b[0m\n\u001b[0m\u001b[1;32m     70\u001b[0m \u001b[0;34m\u001b[0m\u001b[0m\n\u001b[1;32m     71\u001b[0m     \u001b[0;32mdef\u001b[0m \u001b[0mdismiss\u001b[0m\u001b[0;34m(\u001b[0m\u001b[0mself\u001b[0m\u001b[0;34m)\u001b[0m\u001b[0;34m:\u001b[0m\u001b[0;34m\u001b[0m\u001b[0m\n",
      "\u001b[0;32m/Library/Frameworks/Python.framework/Versions/3.5/lib/python3.5/site-packages/selenium/webdriver/remote/webdriver.py\u001b[0m in \u001b[0;36mexecute\u001b[0;34m(self, driver_command, params)\u001b[0m\n\u001b[1;32m    254\u001b[0m         \u001b[0mresponse\u001b[0m \u001b[0;34m=\u001b[0m \u001b[0mself\u001b[0m\u001b[0;34m.\u001b[0m\u001b[0mcommand_executor\u001b[0m\u001b[0;34m.\u001b[0m\u001b[0mexecute\u001b[0m\u001b[0;34m(\u001b[0m\u001b[0mdriver_command\u001b[0m\u001b[0;34m,\u001b[0m \u001b[0mparams\u001b[0m\u001b[0;34m)\u001b[0m\u001b[0;34m\u001b[0m\u001b[0m\n\u001b[1;32m    255\u001b[0m         \u001b[0;32mif\u001b[0m \u001b[0mresponse\u001b[0m\u001b[0;34m:\u001b[0m\u001b[0;34m\u001b[0m\u001b[0m\n\u001b[0;32m--> 256\u001b[0;31m             \u001b[0mself\u001b[0m\u001b[0;34m.\u001b[0m\u001b[0merror_handler\u001b[0m\u001b[0;34m.\u001b[0m\u001b[0mcheck_response\u001b[0m\u001b[0;34m(\u001b[0m\u001b[0mresponse\u001b[0m\u001b[0;34m)\u001b[0m\u001b[0;34m\u001b[0m\u001b[0m\n\u001b[0m\u001b[1;32m    257\u001b[0m             response['value'] = self._unwrap_value(\n\u001b[1;32m    258\u001b[0m                 response.get('value', None))\n",
      "\u001b[0;32m/Library/Frameworks/Python.framework/Versions/3.5/lib/python3.5/site-packages/selenium/webdriver/remote/errorhandler.py\u001b[0m in \u001b[0;36mcheck_response\u001b[0;34m(self, response)\u001b[0m\n\u001b[1;32m    192\u001b[0m         \u001b[0;32melif\u001b[0m \u001b[0mexception_class\u001b[0m \u001b[0;34m==\u001b[0m \u001b[0mUnexpectedAlertPresentException\u001b[0m \u001b[0;32mand\u001b[0m \u001b[0;34m'alert'\u001b[0m \u001b[0;32min\u001b[0m \u001b[0mvalue\u001b[0m\u001b[0;34m:\u001b[0m\u001b[0;34m\u001b[0m\u001b[0m\n\u001b[1;32m    193\u001b[0m             \u001b[0;32mraise\u001b[0m \u001b[0mexception_class\u001b[0m\u001b[0;34m(\u001b[0m\u001b[0mmessage\u001b[0m\u001b[0;34m,\u001b[0m \u001b[0mscreen\u001b[0m\u001b[0;34m,\u001b[0m \u001b[0mstacktrace\u001b[0m\u001b[0;34m,\u001b[0m \u001b[0mvalue\u001b[0m\u001b[0;34m[\u001b[0m\u001b[0;34m'alert'\u001b[0m\u001b[0;34m]\u001b[0m\u001b[0;34m.\u001b[0m\u001b[0mget\u001b[0m\u001b[0;34m(\u001b[0m\u001b[0;34m'text'\u001b[0m\u001b[0;34m)\u001b[0m\u001b[0;34m)\u001b[0m\u001b[0;34m\u001b[0m\u001b[0m\n\u001b[0;32m--> 194\u001b[0;31m         \u001b[0;32mraise\u001b[0m \u001b[0mexception_class\u001b[0m\u001b[0;34m(\u001b[0m\u001b[0mmessage\u001b[0m\u001b[0;34m,\u001b[0m \u001b[0mscreen\u001b[0m\u001b[0;34m,\u001b[0m \u001b[0mstacktrace\u001b[0m\u001b[0;34m)\u001b[0m\u001b[0;34m\u001b[0m\u001b[0m\n\u001b[0m\u001b[1;32m    195\u001b[0m \u001b[0;34m\u001b[0m\u001b[0m\n\u001b[1;32m    196\u001b[0m     \u001b[0;32mdef\u001b[0m \u001b[0m_value_or_default\u001b[0m\u001b[0;34m(\u001b[0m\u001b[0mself\u001b[0m\u001b[0;34m,\u001b[0m \u001b[0mobj\u001b[0m\u001b[0;34m,\u001b[0m \u001b[0mkey\u001b[0m\u001b[0;34m,\u001b[0m \u001b[0mdefault\u001b[0m\u001b[0;34m)\u001b[0m\u001b[0;34m:\u001b[0m\u001b[0;34m\u001b[0m\u001b[0m\n",
      "\u001b[0;31mNoAlertPresentException\u001b[0m: Message: no alert open\n  (Session info: chrome=60.0.3112.90)\n  (Driver info: chromedriver=2.31.488774 (7e15618d1bf16df8bf0ecf2914ed1964a387ba0b),platform=Mac OS X 10.12.5 x86_64)\n"
     ]
    }
   ],
   "source": [
    "Alert(driver).text"
   ]
  },
  {
   "cell_type": "code",
   "execution_count": null,
   "metadata": {
    "collapsed": true
   },
   "outputs": [],
   "source": []
  },
  {
   "cell_type": "code",
   "execution_count": 10,
   "metadata": {
    "collapsed": true
   },
   "outputs": [],
   "source": [
    "a = '쪽지 전달을 실패하였습니다.\\n\\naa아이디가 존재하지 않습니다.\\n\\n쪽지 수신자 아이디를 확인해 주세요.'\n",
    "b = '쪽지 전달을 실패하였습니다.\\n\\nsol5124아이디가 존재하지 않습니다.\\n\\n쪽지 수신자 아이디를 확인해 주세요.'\n",
    "c = '쪽지 전달을 실패하였습니다.\\n\\nguftkdkaghk님의 쪽지 수신 설정에 따라 쪽지를 수신할 수 없는 상태입니다.'\n",
    "d = '쪽지를 성공적으로 보냈습니다.'"
   ]
  },
  {
   "cell_type": "code",
   "execution_count": 12,
   "metadata": {},
   "outputs": [
    {
     "data": {
      "text/plain": [
       "-1"
      ]
     },
     "execution_count": 12,
     "metadata": {},
     "output_type": "execute_result"
    }
   ],
   "source": [
    "a.find('성공')"
   ]
  },
  {
   "cell_type": "code",
   "execution_count": 27,
   "metadata": {},
   "outputs": [
    {
     "ename": "SyntaxError",
     "evalue": "EOL while scanning string literal (<ipython-input-27-05e967d2a747>, line 1)",
     "output_type": "error",
     "traceback": [
      "\u001b[0;36m  File \u001b[0;32m\"<ipython-input-27-05e967d2a747>\"\u001b[0;36m, line \u001b[0;32m1\u001b[0m\n\u001b[0;31m    'yuyeon33\u001b[0m\n\u001b[0m             ^\u001b[0m\n\u001b[0;31mSyntaxError\u001b[0m\u001b[0;31m:\u001b[0m EOL while scanning string literal\n"
     ]
    }
   ],
   "source": [
    "'yuyeon33\n",
    "ph2613\n",
    "euro1984\n",
    "sukha83\n",
    "kissdy486\n",
    "younilking\n",
    "jina1793\n",
    "latry\n",
    "gami1023\n",
    "yja305\n",
    "bada3347\n",
    "mannung100\n",
    "yuyeon33\n",
    "ssome_love\n",
    "srowsrow\n",
    "pinkeg1004\n",
    "ph2613\n",
    "chastity89\n",
    "cindy1015\n",
    "iam166cm\n",
    "tjxowl007\n",
    "nabiya0421\n",
    "aroomnail\n",
    "hahhaya\n",
    "nemohj\n",
    "hari33\n",
    "lovefight402\n",
    "youmarryme\n",
    "kissdy486\n",
    "younilking\n",
    "youmarryme\n",
    "kissdy486\n",
    "younilking\n",
    "heywhatsuk\n",
    "babucjcj\n",
    "0505ej\n",
    "aristata73\n",
    "cherrytue\n",
    "hari33\n",
    "cafeinfofam\n",
    "cea7001\n",
    "hanheymi13\n",
    "yeojinkim\n",
    "qufquf1dl\n",
    "gongroo\n",
    "white9576\n",
    "harry92001\n",
    "kissdy486\n",
    "babucjcj\n",
    "nrzbolzl18\n",
    "cindy1015\n",
    "marketingkim\n",
    "hari33\n",
    "q_p0707\n",
    "bbosil\n",
    "moonfrost\n",
    "hloveh01\n",
    "ssuunn2015\n",
    "ham7580\n",
    "gongroo\n",
    "ssssa0718\n",
    "babucjcj\n",
    "pfmusic\n",
    "pinkeg1004\n",
    "ssun_0301\n",
    "q_p0707\n",
    "99heran\n",
    "ginna79\n",
    "ginna79\n",
    "mong0200\n",
    "neweunha\n",
    "lee72867286\n",
    "ssung0904\n",
    "pca2765\n",
    "zinz00\n",
    "gracelyl\n",
    "0193693900\n",
    "jazzroi\n",
    "younilking\n",
    "polkadot127\n",
    "erin0121\n",
    "ham1887\n",
    "fpwn2015\n",
    "a0910102\n",
    "dnflwndk80\n",
    "gimpo2010\n",
    "mind1018\n",
    "min02090\n",
    "borere\n",
    "white9576\n",
    "woandos\n",
    "smilejude\n",
    "kemsoo\n",
    "namesora\n",
    "kwangigi\n",
    "pinkeg1004\n",
    "goo3134\n",
    "djmanul\n",
    "ppoyayj\n",
    "gongroo\n",
    "kiwisecom\n",
    "euro1984\n",
    "hari33\n",
    "hari33\n",
    "kkeh0413\n",
    "jsmh913\n",
    "eunbi5541\n",
    "kyi2825\n",
    "yoonji3\n",
    "haluday\n",
    "nari1876\n",
    "herbjh1103\n",
    "dyun06\n",
    "chulwoo84\n",
    "nnn2nn2n2\n",
    "woohihi5\n",
    "dyudyuu\n",
    "laughingsky\n",
    "whdrmsl884\n",
    "llhoney_s\n",
    "herbjh1103\n",
    "gurigurigu99\n",
    "pjmysm\n",
    "tjxowl007\n",
    "jangmi88888\n",
    "foxiong\n",
    "nnn2nn2n2\n",
    "aristata73\n",
    "chastity89\n",
    "polaris_yh\n",
    "hanam_story\n",
    "elliws\n",
    "smdalja1\n",
    "zinz00\n",
    "yuyeon33\n",
    "stone2040\n",
    "hari33\n",
    "gu17190\n",
    "mind1018\n",
    "yeojinkim\n",
    "jjung7273\n",
    "hloveh01\n",
    "kiwisecom\n",
    "7irene\n",
    "gabugi99\n",
    "hiahreamah\n",
    "j2ng2000\n",
    "jbgjbg1013"
   ]
  },
  {
   "cell_type": "code",
   "execution_count": null,
   "metadata": {
    "collapsed": true
   },
   "outputs": [],
   "source": []
  }
 ],
 "metadata": {
  "kernelspec": {
   "display_name": "Python 3",
   "language": "python",
   "name": "python3"
  },
  "language_info": {
   "codemirror_mode": {
    "name": "ipython",
    "version": 3
   },
   "file_extension": ".py",
   "mimetype": "text/x-python",
   "name": "python",
   "nbconvert_exporter": "python",
   "pygments_lexer": "ipython3",
   "version": "3.5.1"
  }
 },
 "nbformat": 4,
 "nbformat_minor": 2
}
